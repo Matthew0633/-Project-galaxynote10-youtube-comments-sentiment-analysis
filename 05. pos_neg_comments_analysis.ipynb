{
 "cells": [
  {
   "cell_type": "code",
   "execution_count": 1,
   "metadata": {},
   "outputs": [],
   "source": [
    "import numpy as np\n",
    "import pandas as pd\n",
    "import matplotlib.pyplot as plt\n",
    "import warnings\n",
    "warnings.filterwarnings(\"ignore\")"
   ]
  },
  {
   "cell_type": "code",
   "execution_count": 2,
   "metadata": {},
   "outputs": [
    {
     "data": {
      "text/html": [
       "<div>\n",
       "<style scoped>\n",
       "    .dataframe tbody tr th:only-of-type {\n",
       "        vertical-align: middle;\n",
       "    }\n",
       "\n",
       "    .dataframe tbody tr th {\n",
       "        vertical-align: top;\n",
       "    }\n",
       "\n",
       "    .dataframe thead th {\n",
       "        text-align: right;\n",
       "    }\n",
       "</style>\n",
       "<table border=\"1\" class=\"dataframe\">\n",
       "  <thead>\n",
       "    <tr style=\"text-align: right;\">\n",
       "      <th></th>\n",
       "      <th>commentText</th>\n",
       "      <th>likes</th>\n",
       "      <th>pos_neg</th>\n",
       "    </tr>\n",
       "  </thead>\n",
       "  <tbody>\n",
       "    <tr>\n",
       "      <td>0</td>\n",
       "      <td>플러스로 유도하는 전략이 잘못됐다에 크게 공감합니다 작은폰을 원하는 사람도 똑같은 ...</td>\n",
       "      <td>71</td>\n",
       "      <td>부정</td>\n",
       "    </tr>\n",
       "    <tr>\n",
       "      <td>1</td>\n",
       "      <td>애플워치차고 갤럭시 리뷰라...\\n(역시 냉정하군ㅋㅋㅋㅋㅋ)</td>\n",
       "      <td>68</td>\n",
       "      <td>부정</td>\n",
       "    </tr>\n",
       "    <tr>\n",
       "      <td>2</td>\n",
       "      <td>삼성의 갤노트10+몰아주기는 유투버들에게도 전달된건지..\\n대부분 플러스를 집중적으...</td>\n",
       "      <td>29</td>\n",
       "      <td>부정</td>\n",
       "    </tr>\n",
       "    <tr>\n",
       "      <td>3</td>\n",
       "      <td>크기에 따른 스펙을 구분한다는 점이 정말 아쉽네요</td>\n",
       "      <td>16</td>\n",
       "      <td>부정</td>\n",
       "    </tr>\n",
       "    <tr>\n",
       "      <td>4</td>\n",
       "      <td>리더유님이 지적하는 진정한 단점 제작사가 깊이 가슴에 새겨야 할텐데~👍</td>\n",
       "      <td>13</td>\n",
       "      <td>긍정</td>\n",
       "    </tr>\n",
       "  </tbody>\n",
       "</table>\n",
       "</div>"
      ],
      "text/plain": [
       "                                         commentText             likes pos_neg\n",
       "0  플러스로 유도하는 전략이 잘못됐다에 크게 공감합니다 작은폰을 원하는 사람도 똑같은 ...          71            부정\n",
       "1                  애플워치차고 갤럭시 리뷰라...\\n(역시 냉정하군ㅋㅋㅋㅋㅋ)          68            부정\n",
       "2  삼성의 갤노트10+몰아주기는 유투버들에게도 전달된건지..\\n대부분 플러스를 집중적으...          29            부정\n",
       "3                        크기에 따른 스펙을 구분한다는 점이 정말 아쉽네요          16            부정\n",
       "4            리더유님이 지적하는 진정한 단점 제작사가 깊이 가슴에 새겨야 할텐데~👍          13            긍정"
      ]
     },
     "execution_count": 2,
     "metadata": {},
     "output_type": "execute_result"
    }
   ],
   "source": [
    "df = pd.read_csv('galaxynote10cmts_pos_neg.csv')\n",
    "df.head()"
   ]
  }
 ],
 "metadata": {
  "kernelspec": {
   "display_name": "Python 3",
   "language": "python",
   "name": "python3"
  },
  "language_info": {
   "codemirror_mode": {
    "name": "ipython",
    "version": 3
   },
   "file_extension": ".py",
   "mimetype": "text/x-python",
   "name": "python",
   "nbconvert_exporter": "python",
   "pygments_lexer": "ipython3",
   "version": "3.7.4"
  }
 },
 "nbformat": 4,
 "nbformat_minor": 4
}
