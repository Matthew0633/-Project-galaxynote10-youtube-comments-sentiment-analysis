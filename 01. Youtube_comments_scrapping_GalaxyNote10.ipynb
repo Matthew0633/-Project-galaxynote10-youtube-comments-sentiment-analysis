{
 "cells": [
  {
   "cell_type": "code",
   "execution_count": 26,
   "metadata": {},
   "outputs": [
    {
     "data": {
      "text/plain": [
       "['냉정하게! 본 갤럭시노트10 / 10+ 좋은점, 아쉬운점은? - 갤럭시노트10 단점',\n",
       " '갤럭시 노트 10+ 3주 실사용 후기! 장단점 3가지 | Galaxy note 10+',\n",
       " '실사용자 짬에서 나오는 갤럭시 노트10 or 노트10+ 차이점 13가지! 고민중이라면 꼭! 보세요.',\n",
       " '갤럭시노트10 단점만 파보았다. 정말 플러스 모델이 정답일까?!!',\n",
       " '갤럭시 노트10이 노트10 플러스보다 더 나은 이유?',\n",
       " '좋은거 맞아? 갤럭시노트10  솔직한 느낌 및 달라진점! (갤럭시노트9 차이, 장단점, 성능)',\n",
       " '삼성 갤럭시 노트10 리뷰: 작다. 야무지다. [4K]',\n",
       " '순삭 6분리뷰 갤럭시노트10 이거보고 결정해도 안늦어! 노트10플러스의 모든것!',\n",
       " '[ENG SUB] 역시 아이폰이 짱?! [갤럭시노트10 절대 사지 말아야 하는 이유 7가지]',\n",
       " '노트10과 노트10+! 뭘 살지 고민 되신다면 꼭 보세요.']"
      ]
     },
     "execution_count": 26,
     "metadata": {},
     "output_type": "execute_result"
    }
   ],
   "source": [
    "import time\n",
    "from functools import reduce\n",
    "from selenium import webdriver\n",
    "from selenium.webdriver.common.keys import Keys\n",
    "from bs4 import BeautifulSoup\n",
    "import pandas as pd\n",
    "import requests\n",
    "\n",
    "# '노트10 장단점' 검색\n",
    "url = 'https://www.youtube.com/results?search_query=%EB%85%B8%ED%8A%B810+%EC%9E%A5%EB%8B%A8%EC%A0%90'\n",
    "raw = requests.get(url, headers = {'User-Agent':'Mozilla/5.0'})\n",
    "\n",
    "html = BeautifulSoup(raw.text,'html.parser')\n",
    "\n",
    "title_cont = html.select('h3.yt-lockup-title')\n",
    "link_cont = html.select('div.yt-lockup') # Find tag's name in result of 'html'\n",
    "\n",
    "titles = [title.select_one('a').attrs['title'] for title in title_cont[1:]]\n",
    "links = ['https://www.youtube.com' + link.select_one('a').attrs['href'] for link in link_cont[1:]] # [0]: remove ad-link\n",
    "\n",
    "titles[:10]"
   ]
  },
  {
   "cell_type": "code",
   "execution_count": 28,
   "metadata": {},
   "outputs": [
    {
     "data": {
      "text/html": [
       "<div>\n",
       "<style scoped>\n",
       "    .dataframe tbody tr th:only-of-type {\n",
       "        vertical-align: middle;\n",
       "    }\n",
       "\n",
       "    .dataframe tbody tr th {\n",
       "        vertical-align: top;\n",
       "    }\n",
       "\n",
       "    .dataframe thead th {\n",
       "        text-align: right;\n",
       "    }\n",
       "</style>\n",
       "<table border=\"1\" class=\"dataframe\">\n",
       "  <thead>\n",
       "    <tr style=\"text-align: right;\">\n",
       "      <th></th>\n",
       "      <th>commentText</th>\n",
       "      <th>likes</th>\n",
       "    </tr>\n",
       "  </thead>\n",
       "  <tbody>\n",
       "    <tr>\n",
       "      <td>0</td>\n",
       "      <td>플러스로 유도하는 전략이 잘못됐다에 크게 공감합니다 작은폰을 원하는 사람도 똑같은 ...</td>\n",
       "      <td>71</td>\n",
       "    </tr>\n",
       "    <tr>\n",
       "      <td>1</td>\n",
       "      <td>애플워치차고 갤럭시 리뷰라...\\n(역시 냉정하군ㅋㅋㅋㅋㅋ)</td>\n",
       "      <td>68</td>\n",
       "    </tr>\n",
       "    <tr>\n",
       "      <td>2</td>\n",
       "      <td>삼성의 갤노트10+몰아주기는 유투버들에게도 전달된건지..\\n대부분 플러스를 집중적으...</td>\n",
       "      <td>29</td>\n",
       "    </tr>\n",
       "    <tr>\n",
       "      <td>3</td>\n",
       "      <td>크기에 따른 스펙을 구분한다는 점이 정말 아쉽네요</td>\n",
       "      <td>16</td>\n",
       "    </tr>\n",
       "    <tr>\n",
       "      <td>4</td>\n",
       "      <td>리더유님이 지적하는 진정한 단점 제작사가 깊이 가슴에 새겨야 할텐데~👍</td>\n",
       "      <td>13</td>\n",
       "    </tr>\n",
       "  </tbody>\n",
       "</table>\n",
       "</div>"
      ],
      "text/plain": [
       "                                         commentText             likes\n",
       "0  플러스로 유도하는 전략이 잘못됐다에 크게 공감합니다 작은폰을 원하는 사람도 똑같은 ...          71      \n",
       "1                  애플워치차고 갤럭시 리뷰라...\\n(역시 냉정하군ㅋㅋㅋㅋㅋ)          68      \n",
       "2  삼성의 갤노트10+몰아주기는 유투버들에게도 전달된건지..\\n대부분 플러스를 집중적으...          29      \n",
       "3                        크기에 따른 스펙을 구분한다는 점이 정말 아쉽네요          16      \n",
       "4            리더유님이 지적하는 진정한 단점 제작사가 깊이 가슴에 새겨야 할텐데~👍          13      "
      ]
     },
     "execution_count": 28,
     "metadata": {},
     "output_type": "execute_result"
    }
   ],
   "source": [
    "driver = webdriver.Chrome('Chromedriver.exe')\n",
    "\n",
    "comments = []\n",
    "likes = []\n",
    "\n",
    "# use 10 videos\n",
    "for link in links[:10]: \n",
    "    each_url = link\n",
    "    driver.get(each_url)\n",
    "    \n",
    "    ### [scroll-down]\n",
    "    scroll_pause_time = 3\n",
    "    time.sleep(scroll_pause_time)\n",
    "    body = driver.find_element_by_tag_name('body')\n",
    "    body.send_keys(Keys.PAGE_DOWN)\n",
    "    time.sleep(scroll_pause_time)\n",
    "\n",
    "    for i in range(15): # more than 10 is okay\n",
    "        body.send_keys(Keys.END)\n",
    "        time.sleep(scroll_pause_time)\n",
    "    ### [scroll-down]\n",
    "    \n",
    "    ### [get comments and number of likes]\n",
    "    page = driver.page_source\n",
    "    html_each = BeautifulSoup(page,'lxml')\n",
    "    body = html_each.select('div#body')\n",
    "    \n",
    "    cmt = [b.select_one('yt-formatted-string#content-text').text for b in body]\n",
    "    cmtlike = [b.select_one('span#vote-count-middle').text.replace('\\n','') for b in body]\n",
    "    ### [get comments and number of likes]\n",
    "    \n",
    "    comments.append(cmt)\n",
    "    likes.append(cmtlike)\n",
    "\n",
    "df = pd.DataFrame(\n",
    "    {'commentText': reduce(lambda x,y : x+y, comments), \n",
    "     'likes': reduce(lambda x,y : x+y, likes)},\n",
    "    columns = ['commentText', 'likes']\n",
    "    )\n",
    "\n",
    "df.head()"
   ]
  },
  {
   "cell_type": "code",
   "execution_count": 29,
   "metadata": {},
   "outputs": [],
   "source": [
    "driver.close()"
   ]
  },
  {
   "cell_type": "code",
   "execution_count": 30,
   "metadata": {},
   "outputs": [],
   "source": [
    "# df.to_csv('galaxynote10_comments.csv', index=False)"
   ]
  }
 ],
 "metadata": {
  "kernelspec": {
   "display_name": "Python 3",
   "language": "python",
   "name": "python3"
  },
  "language_info": {
   "codemirror_mode": {
    "name": "ipython",
    "version": 3
   },
   "file_extension": ".py",
   "mimetype": "text/x-python",
   "name": "python",
   "nbconvert_exporter": "python",
   "pygments_lexer": "ipython3",
   "version": "3.7.4"
  }
 },
 "nbformat": 4,
 "nbformat_minor": 4
}
