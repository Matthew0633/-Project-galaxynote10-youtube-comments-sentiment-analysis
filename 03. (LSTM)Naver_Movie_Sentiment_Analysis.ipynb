{
 "cells": [
  {
   "cell_type": "code",
   "execution_count": 90,
   "metadata": {
    "colab": {
     "base_uri": "https://localhost:8080/",
     "height": 34
    },
    "colab_type": "code",
    "executionInfo": {
     "elapsed": 1647,
     "status": "ok",
     "timestamp": 1581945450616,
     "user": {
      "displayName": "박민형",
      "photoUrl": "",
      "userId": "07370626206411884436"
     },
     "user_tz": -540
    },
    "id": "rvBcD81VXz_C",
    "outputId": "57c7df31-5005-4e3b-f991-84b661d17846"
   },
   "outputs": [
    {
     "name": "stdout",
     "output_type": "stream",
     "text": [
      "2.0.0\n"
     ]
    }
   ],
   "source": [
    "import numpy as np\n",
    "import tensorflow as tf\n",
    "import matplotlib.pyplot as plt\n",
    "import codecs\n",
    "from pprint import pprint\n",
    "from konlpy.tag import Twitter\n",
    "from tensorflow import keras\n",
    "from tensorflow.keras import layers\n",
    "from tensorflow.keras import Sequential, Model\n",
    "from tensorflow.keras.preprocessing.sequence import pad_sequences\n",
    "from tensorflow.python.keras.preprocessing.text import Tokenizer\n",
    "\n",
    "%matplotlib inline\n",
    "print(tf.__version__)"
   ]
  },
  {
   "cell_type": "code",
   "execution_count": 91,
   "metadata": {
    "colab": {
     "base_uri": "https://localhost:8080/",
     "height": 738
    },
    "colab_type": "code",
    "executionInfo": {
     "elapsed": 12902,
     "status": "ok",
     "timestamp": 1581945462058,
     "user": {
      "displayName": "박민형",
      "photoUrl": "",
      "userId": "07370626206411884436"
     },
     "user_tz": -540
    },
    "id": "dbVV9tPKYMqS",
    "outputId": "c953b7bf-0dc0-4080-d15f-1ec6dfed6b52"
   },
   "outputs": [
    {
     "name": "stdout",
     "output_type": "stream",
     "text": [
      "Hit:1 http://archive.ubuntu.com/ubuntu bionic InRelease\n",
      "Hit:2 http://ppa.launchpad.net/graphics-drivers/ppa/ubuntu bionic InRelease    \n",
      "Get:3 http://archive.ubuntu.com/ubuntu bionic-updates InRelease [88.7 kB]      \n",
      "Hit:4 http://ppa.launchpad.net/marutter/c2d4u3.5/ubuntu bionic InRelease       \n",
      "Get:5 http://archive.ubuntu.com/ubuntu bionic-backports InRelease [74.6 kB]    \n",
      "Ign:6 https://developer.download.nvidia.com/compute/cuda/repos/ubuntu1804/x86_64  InRelease\n",
      "Get:7 http://security.ubuntu.com/ubuntu bionic-security InRelease [88.7 kB]    \n",
      "Hit:8 https://cloud.r-project.org/bin/linux/ubuntu bionic-cran35/ InRelease    \n",
      "Ign:9 https://developer.download.nvidia.com/compute/machine-learning/repos/ubuntu1804/x86_64  InRelease\n",
      "Hit:10 https://developer.download.nvidia.com/compute/cuda/repos/ubuntu1804/x86_64  Release\n",
      "Hit:11 https://developer.download.nvidia.com/compute/machine-learning/repos/ubuntu1804/x86_64  Release\n",
      "Get:12 http://archive.ubuntu.com/ubuntu bionic-updates/universe amd64 Packages [1,348 kB]\n",
      "Get:13 http://archive.ubuntu.com/ubuntu bionic-updates/restricted amd64 Packages [42.4 kB]\n",
      "Get:14 http://archive.ubuntu.com/ubuntu bionic-updates/main amd64 Packages [1,112 kB]\n",
      "Fetched 2,754 kB in 1s (1,932 kB/s)\n",
      "Reading package lists... Done\n",
      "Reading package lists... Done\n",
      "Building dependency tree       \n",
      "Reading state information... Done\n",
      "g++ is already the newest version (4:7.4.0-1ubuntu2.3).\n",
      "openjdk-8-jdk is already the newest version (8u242-b08-0ubuntu3~18.04).\n",
      "The following package was automatically installed and is no longer required:\n",
      "  libnvidia-common-430\n",
      "Use 'apt autoremove' to remove it.\n",
      "0 upgraded, 0 newly installed, 0 to remove and 101 not upgraded.\n",
      "Requirement already satisfied: konlpy in /usr/local/lib/python3.6/dist-packages (0.5.2)\n",
      "Requirement already satisfied: numpy>=1.6 in /usr/local/lib/python3.6/dist-packages (from konlpy) (1.17.5)\n",
      "Requirement already satisfied: JPype1>=0.7.0 in /usr/local/lib/python3.6/dist-packages (from konlpy) (0.7.1)\n",
      "Requirement already satisfied: tweepy>=3.7.0 in /usr/local/lib/python3.6/dist-packages (from konlpy) (3.8.0)\n",
      "Requirement already satisfied: beautifulsoup4==4.6.0 in /usr/local/lib/python3.6/dist-packages (from konlpy) (4.6.0)\n",
      "Requirement already satisfied: lxml>=4.1.0 in /usr/local/lib/python3.6/dist-packages (from konlpy) (4.2.6)\n",
      "Requirement already satisfied: colorama in /usr/local/lib/python3.6/dist-packages (from konlpy) (0.4.3)\n",
      "Requirement already satisfied: PySocks>=1.5.7 in /usr/local/lib/python3.6/dist-packages (from tweepy>=3.7.0->konlpy) (1.7.1)\n",
      "Requirement already satisfied: requests>=2.11.1 in /usr/local/lib/python3.6/dist-packages (from tweepy>=3.7.0->konlpy) (2.21.0)\n",
      "Requirement already satisfied: six>=1.10.0 in /usr/local/lib/python3.6/dist-packages (from tweepy>=3.7.0->konlpy) (1.12.0)\n",
      "Requirement already satisfied: requests-oauthlib>=0.7.0 in /usr/local/lib/python3.6/dist-packages (from tweepy>=3.7.0->konlpy) (1.3.0)\n",
      "Requirement already satisfied: urllib3<1.25,>=1.21.1 in /usr/local/lib/python3.6/dist-packages (from requests>=2.11.1->tweepy>=3.7.0->konlpy) (1.24.3)\n",
      "Requirement already satisfied: chardet<3.1.0,>=3.0.2 in /usr/local/lib/python3.6/dist-packages (from requests>=2.11.1->tweepy>=3.7.0->konlpy) (3.0.4)\n",
      "Requirement already satisfied: idna<2.9,>=2.5 in /usr/local/lib/python3.6/dist-packages (from requests>=2.11.1->tweepy>=3.7.0->konlpy) (2.8)\n",
      "Requirement already satisfied: certifi>=2017.4.17 in /usr/local/lib/python3.6/dist-packages (from requests>=2.11.1->tweepy>=3.7.0->konlpy) (2019.11.28)\n",
      "Requirement already satisfied: oauthlib>=3.0.0 in /usr/local/lib/python3.6/dist-packages (from requests-oauthlib>=0.7.0->tweepy>=3.7.0->konlpy) (3.1.0)\n"
     ]
    }
   ],
   "source": [
    "#감정 분석에 필요한 konlpy 설치\n",
    "!apt-get update\n",
    "!apt-get install g++ openjdk-8-jdk\n",
    "!pip3 install konlpy\n",
    "!pip3 install Twitter"
   ]
  },
  {
   "cell_type": "code",
   "execution_count": 121,
   "metadata": {
    "colab": {
     "base_uri": "https://localhost:8080/",
     "height": 70
    },
    "colab_type": "code",
    "executionInfo": {
     "elapsed": 4359,
     "status": "ok",
     "timestamp": 1581952525333,
     "user": {
      "displayName": "박민형",
      "photoUrl": "",
      "userId": "07370626206411884436"
     },
     "user_tz": -540
    },
    "id": "Y6lK08fFYMwk",
    "outputId": "181d0745-5d8b-44f9-8d7d-9b13d1b7d0e3"
   },
   "outputs": [
    {
     "name": "stdout",
     "output_type": "stream",
     "text": [
      "Requirement already satisfied: Twitter in /usr/local/lib/python3.6/dist-packages (1.18.0)\n"
     ]
    },
    {
     "name": "stderr",
     "output_type": "stream",
     "text": [
      "/usr/local/lib/python3.6/dist-packages/konlpy/tag/_okt.py:16: UserWarning: \"Twitter\" has changed to \"Okt\" since KoNLPy v0.4.5.\n",
      "  warn('\"Twitter\" has changed to \"Okt\" since KoNLPy v0.4.5.')\n"
     ]
    }
   ],
   "source": [
    "# use only noun and adj.\n",
    "def getNounAdjective(text):\n",
    "    stems=[]\n",
    "    twitter=Twitter()\n",
    "    tagged=twitter.pos(text,stem=True)\n",
    "    for i in range(0,len(tagged)):\n",
    "        if (tagged[i][1]=='Noun' or tagged[i][1]=='Adjective'):\n",
    "            stems.append(tagged[i][0])\n",
    "    return ' '.join(stems)"
   ]
  },
  {
   "cell_type": "code",
   "execution_count": null,
   "metadata": {
    "colab": {},
    "colab_type": "code",
    "id": "zoSuDiJfYM47"
   },
   "outputs": [],
   "source": [
    "# use only noun and adj.\n",
    "def getNounAdjective(text):\n",
    "    stems=[]\n",
    "    tagged=twitter.pos(text,stem=True)\n",
    "    for i in range(0,len(tagged)):\n",
    "        if (tagged[i][1]=='Noun' or tagged[i][1]=='Adjective'):\n",
    "            stems.append(tagged[i][0])\n",
    "    return ' '.join(stems)\n",
    "\n",
    "def read_data(filename):\n",
    "    with open(filename,'r',encoding='utf8') as f:\n",
    "        result=[line.split('\\t') for line in f.read().splitlines()]\n",
    "        result=result[1:]\n",
    "    return result"
   ]
  },
  {
   "cell_type": "code",
   "execution_count": 95,
   "metadata": {
    "colab": {
     "base_uri": "https://localhost:8080/",
     "height": 34
    },
    "colab_type": "code",
    "executionInfo": {
     "elapsed": 2699,
     "status": "ok",
     "timestamp": 1581945498295,
     "user": {
      "displayName": "박민형",
      "photoUrl": "",
      "userId": "07370626206411884436"
     },
     "user_tz": -540
    },
    "id": "L3xFmASBYM1Y",
    "outputId": "2d84d9d0-3bf1-49e3-bef1-de100c8e3244"
   },
   "outputs": [
    {
     "name": "stdout",
     "output_type": "stream",
     "text": [
      "Mounted at /gdrive\n"
     ]
    }
   ],
   "source": [
    "from google.colab import drive\n",
    "drive.mount('/gdrive',force_remount=True)"
   ]
  },
  {
   "cell_type": "code",
   "execution_count": null,
   "metadata": {
    "colab": {},
    "colab_type": "code",
    "id": "WOdBqVsnYMvK"
   },
   "outputs": [],
   "source": [
    "#학습에 활용할 텍스트 파일 읽기\n",
    "train_tmp = read_data('/gdrive/My Drive/Colab/ratings_train.txt')\n",
    "test_tmp = read_data('/gdrive/My Drive/Colab/ratings_test.txt')"
   ]
  },
  {
   "cell_type": "code",
   "execution_count": 13,
   "metadata": {
    "colab": {
     "base_uri": "https://localhost:8080/",
     "height": 34
    },
    "colab_type": "code",
    "executionInfo": {
     "elapsed": 1108,
     "status": "ok",
     "timestamp": 1581933289084,
     "user": {
      "displayName": "박민형",
      "photoUrl": "",
      "userId": "07370626206411884436"
     },
     "user_tz": -540
    },
    "id": "i_erTPTnYMtq",
    "outputId": "9117c38f-1652-4a30-8607-c574870bb7ad"
   },
   "outputs": [
    {
     "data": {
      "text/plain": [
       "['9976970', '아 더빙.. 진짜 짜증나네요 목소리', '0']"
      ]
     },
     "execution_count": 13,
     "metadata": {
      "tags": []
     },
     "output_type": "execute_result"
    }
   ],
   "source": [
    "train_tmp[0]"
   ]
  },
  {
   "cell_type": "code",
   "execution_count": null,
   "metadata": {
    "colab": {},
    "colab_type": "code",
    "id": "kjULwy9AYMo_"
   },
   "outputs": [],
   "source": [
    "def train_test_split():\n",
    "    train_x=[]\n",
    "    train_y=[]\n",
    "    \n",
    "    for i in range(len(train_tmp)):\n",
    "        train_x.append(getNounAdjective(train_tmp[i][1]))\n",
    "        train_y.append(int(train_tmp[i][2]))\n",
    "        \n",
    "    test_x=[]\n",
    "    test_y=[]\n",
    "\n",
    "    for i in range(len(test_tmp)):\n",
    "        test_x.append(getNounAdjective(test_tmp[i][1]))\n",
    "        test_y.append(int(test_tmp[i][2]))\n",
    "        \n",
    "    return (train_x, train_y), (test_x,test_y)\n",
    "\n",
    "(x_train,y_train),(x_test,y_test)=train_test_split()"
   ]
  },
  {
   "cell_type": "code",
   "execution_count": 128,
   "metadata": {
    "colab": {
     "base_uri": "https://localhost:8080/",
     "height": 72
    },
    "colab_type": "code",
    "executionInfo": {
     "elapsed": 1177,
     "status": "ok",
     "timestamp": 1581953033146,
     "user": {
      "displayName": "박민형",
      "photoUrl": "",
      "userId": "07370626206411884436"
     },
     "user_tz": -540
    },
    "id": "N0yBtMadbNfq",
    "outputId": "4a96cb73-1d5d-4a78-f716-ff4821796042"
   },
   "outputs": [
    {
     "name": "stdout",
     "output_type": "stream",
     "text": [
      "['더빙 진짜 짜증나다 목소리', '흠 포스터 보고 초딩 영화 줄 오버 연기 가볍다', '무재 밓었 다그 래서 추천', '교도소 이야기 구먼 솔직하다 재미 없다 평점 조정', '몬페 의 익살스럽다 연기 영화 스파이더맨 커스틴 던스트 이쁘다', '막 걸음 마 세 초등학교 학년 생인 영화 반개 아깝다 움', '원작 긴장감 제대로', '별 반개 아깝다 욕 이응경 길용우 생활 년 정말 발 해도 그것 납치 감금 반복 반복 드라마 가족 없다 연기 사람 네', '액션 없다 재미 있다 몇 안되다 영화', '왜케 평점 낮다 꽤 볼 데 헐리우드 화려하다 있다']\n",
      "[0, 1, 0, 0, 1, 0, 0, 0, 1, 1]\n"
     ]
    }
   ],
   "source": [
    "print(x_train[0:10])\n",
    "print(y_train[0:10])"
   ]
  },
  {
   "cell_type": "code",
   "execution_count": 53,
   "metadata": {
    "colab": {
     "base_uri": "https://localhost:8080/",
     "height": 265
    },
    "colab_type": "code",
    "executionInfo": {
     "elapsed": 1152,
     "status": "ok",
     "timestamp": 1581937016889,
     "user": {
      "displayName": "박민형",
      "photoUrl": "",
      "userId": "07370626206411884436"
     },
     "user_tz": -540
    },
    "id": "JaBUJH-ebN1R",
    "outputId": "7399871c-c59f-4bbe-83d8-45650cddb4be"
   },
   "outputs": [
    {
     "data": {
      "image/png": "[encoded data removed]",
      "text/plain": [
       "<Figure size 432x288 with 1 Axes>"
      ]
     },
     "metadata": {
      "tags": []
     },
     "output_type": "display_data"
    }
   ],
   "source": [
    "# see words(x), freq(y)\n",
    "from collections import Counter\n",
    "counter=dict(Counter([len(x) for x in x_train]))\n",
    "lists = sorted(counter.items()) \n",
    "x,y = zip(*lists)\n",
    "plt.plot(x,y)\n",
    "plt.show()"
   ]
  },
  {
   "cell_type": "code",
   "execution_count": null,
   "metadata": {
    "colab": {},
    "colab_type": "code",
    "id": "XfrvPq9hbNje"
   },
   "outputs": [],
   "source": [
    "def tokenize():\n",
    "    max_num_words=1000\n",
    "\n",
    "    tokenizer=Tokenizer(num_words=max_num_words-1)\n",
    "    tokenizer.fit_on_texts(x_train)\n",
    "\n",
    "    x_train_token = tokenizer.texts_to_sequences(x_train)\n",
    "    x_test_token=tokenizer.texts_to_sequences(x_test)\n",
    "\n",
    "    one_word_idx=[i for i in range(len(x_train_token)) if len(x_train_token[i])<2] # remove one word sentence\n",
    "    x_train_token=[text for i, text in enumerate(x_train_token) if i not in one_word_idx]\n",
    "    y_train_token=[text for i, text in enumerate(y_train) if i not in one_word_idx]\n",
    "    return x_train_token, y_train_token\n",
    "\n",
    "x_train_token, y_train_token = tokenize()"
   ]
  },
  {
   "cell_type": "code",
   "execution_count": null,
   "metadata": {},
   "outputs": [],
   "source": [
    "def padding_x():\n",
    "    maxlen=40\n",
    "    x_train_pad=pad_sequences(x_train_token, maxlen=maxlen, padding='post')\n",
    "    x_test_pad=pad_sequences(x_test_token, maxlen=maxlen, padding='post')\n",
    "    return x_train_pad, x_test_pad\n",
    "\n",
    "def padding_y():\n",
    "    y_train_pad=np.eye(2)[y_train_token]\n",
    "    y_test_pad=np.eye(2)[y_test]\n",
    "    return y_train_pad, y_test_pad\n",
    "\n",
    "x_train_pad, x_test_pad = padding_x()\n",
    "y_train_pad, y_test_pad = padding_y"
   ]
  },
  {
   "cell_type": "code",
   "execution_count": null,
   "metadata": {
    "colab": {},
    "colab_type": "code",
    "id": "Xz2emZdfdeuR"
   },
   "outputs": [],
   "source": [
    "def show_wordmap():\n",
    "    reverse_word_map = dict(map(reversed, tokenizer.word_index.items()))\n",
    "    return reverse_word_map"
   ]
  },
  {
   "cell_type": "code",
   "execution_count": null,
   "metadata": {
    "colab": {},
    "colab_type": "code",
    "id": "uvkS9o-RgXtq"
   },
   "outputs": [],
   "source": [
    "def LSTM_modeling():\n",
    "    num_classes = 2 # 0(positive), 1(negative)\n",
    "    model=Sequential()\n",
    "    model.add(layers.Embedding(input_dim=max_num_words,\n",
    "                               output_dim=max_num_words,\n",
    "                               input_length=maxlen,\n",
    "                               embeddings_initializer=keras.initializers.Constant(one_hot)))\n",
    "    model.add(tf.keras.layers.LSTM(units=128))\n",
    "    model.add(layers.Dense(units=num_classes, activation=tf.nn.softmax))\n",
    "    model.compile(loss='categorical_crossentropy', optimizer='adam',metrics=['accuracy'])\n",
    "    return model"
   ]
  },
  {
   "cell_type": "code",
   "execution_count": 139,
   "metadata": {
    "colab": {
     "base_uri": "https://localhost:8080/",
     "height": 263
    },
    "colab_type": "code",
    "executionInfo": {
     "elapsed": 47787,
     "status": "ok",
     "timestamp": 1581953138900,
     "user": {
      "displayName": "박민형",
      "photoUrl": "",
      "userId": "07370626206411884436"
     },
     "user_tz": -540
    },
    "id": "V9jrmue_h179",
    "outputId": "b77429f5-393f-4937-cd41-214f9e4ae5a0"
   },
   "outputs": [
    {
     "name": "stdout",
     "output_type": "stream",
     "text": [
      "Model: \"sequential_2\"\n",
      "_________________________________________________________________\n",
      "Layer (type)                 Output Shape              Param #   \n",
      "=================================================================\n",
      "embedding_2 (Embedding)      (None, 40, 1000)          1000000   \n",
      "_________________________________________________________________\n",
      "lstm_1 (LSTM)                (None, 128)               578048    \n",
      "_________________________________________________________________\n",
      "dense_1 (Dense)              (None, 2)                 258       \n",
      "=================================================================\n",
      "Total params: 1,578,306\n",
      "Trainable params: 1,578,306\n",
      "Non-trainable params: 0\n",
      "_________________________________________________________________\n"
     ]
    }
   ],
   "source": [
    "model = LSTM_modeling()\n",
    "model.summary()"
   ]
  },
  {
   "cell_type": "code",
   "execution_count": 142,
   "metadata": {
    "colab": {
     "base_uri": "https://localhost:8080/",
     "height": 228
    },
    "colab_type": "code",
    "executionInfo": {
     "elapsed": 1552138,
     "status": "ok",
     "timestamp": 1581954655028,
     "user": {
      "displayName": "박민형",
      "photoUrl": "",
      "userId": "07370626206411884436"
     },
     "user_tz": -540
    },
    "id": "fD3UV-tcigFW",
    "outputId": "0b993348-2979-4f0b-9da6-286154ebf987"
   },
   "outputs": [
    {
     "name": "stdout",
     "output_type": "stream",
     "text": [
      "Train on 126317 samples, validate on 50000 samples\n",
      "Epoch 1/5\n",
      "126317/126317 [==============================] - 315s 2ms/sample - loss: 0.4932 - accuracy: 0.7378 - val_loss: 0.4361 - val_accuracy: 0.7927\n",
      "Epoch 2/5\n",
      "126317/126317 [==============================] - 306s 2ms/sample - loss: 0.4017 - accuracy: 0.8160 - val_loss: 0.4337 - val_accuracy: 0.7844\n",
      "Epoch 3/5\n",
      "126317/126317 [==============================] - 302s 2ms/sample - loss: 0.3911 - accuracy: 0.8210 - val_loss: 0.4216 - val_accuracy: 0.7955\n",
      "Epoch 4/5\n",
      "126317/126317 [==============================] - 300s 2ms/sample - loss: 0.3804 - accuracy: 0.8258 - val_loss: 0.4208 - val_accuracy: 0.7997\n",
      "Epoch 5/5\n",
      "126317/126317 [==============================] - 293s 2ms/sample - loss: 0.3743 - accuracy: 0.8281 - val_loss: 0.4143 - val_accuracy: 0.8013\n"
     ]
    },
    {
     "data": {
      "text/plain": [
       "<tensorflow.python.keras.callbacks.History at 0x7f033cb6b208>"
      ]
     },
     "execution_count": 142,
     "metadata": {
      "tags": []
     },
     "output_type": "execute_result"
    }
   ],
   "source": [
    "batch_size=1000\n",
    "model.fit(x_train_pad,y_train_pad, batch_size=batch_size, epochs=5,\n",
    "         validation_data=(x_test_pad, y_test_pad))"
   ]
  },
  {
   "cell_type": "code",
   "execution_count": null,
   "metadata": {
    "colab": {},
    "colab_type": "code",
    "id": "rileBvYC2pon"
   },
   "outputs": [],
   "source": [
    "model.save('/gdrive/My Drive/Colab/naver_movie_lstm.h5')"
   ]
  }
 ],
 "metadata": {
  "accelerator": "GPU",
  "colab": {
   "collapsed_sections": [],
   "name": "NaverMovie_Sent(능률).ipynb",
   "provenance": []
  },
  "kernelspec": {
   "display_name": "Python 3",
   "language": "python",
   "name": "python3"
  },
  "language_info": {
   "codemirror_mode": {
    "name": "ipython",
    "version": 3
   },
   "file_extension": ".py",
   "mimetype": "text/x-python",
   "name": "python",
   "nbconvert_exporter": "python",
   "pygments_lexer": "ipython3",
   "version": "3.7.4"
  }
 },
 "nbformat": 4,
 "nbformat_minor": 4
}
